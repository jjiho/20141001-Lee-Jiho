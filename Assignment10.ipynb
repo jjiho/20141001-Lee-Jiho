{
  "nbformat": 4,
  "nbformat_minor": 0,
  "metadata": {
    "colab": {
      "name": "Assignment10.ipynb",
      "provenance": [],
      "collapsed_sections": [],
      "authorship_tag": "ABX9TyP9zQOSISQx8p2lyU0rZLkj",
      "include_colab_link": true
    },
    "kernelspec": {
      "name": "python3",
      "display_name": "Python 3"
    },
    "accelerator": "GPU"
  },
  "cells": [
    {
      "cell_type": "markdown",
      "metadata": {
        "id": "view-in-github",
        "colab_type": "text"
      },
      "source": [
        "<a href=\"https://colab.research.google.com/github/jjiho/20141001-Lee-Jiho/blob/master/Assignment10.ipynb\" target=\"_parent\"><img src=\"https://colab.research.google.com/assets/colab-badge.svg\" alt=\"Open In Colab\"/></a>"
      ]
    },
    {
      "cell_type": "code",
      "metadata": {
        "id": "x4rOHU84rQZ7",
        "colab_type": "code",
        "outputId": "b7c1ce79-0af6-40d4-91df-b757d1136463",
        "colab": {
          "base_uri": "https://localhost:8080/",
          "height": 280
        }
      },
      "source": [
        "!curl https://colab.chainer.org/install | sh -"
      ],
      "execution_count": 1,
      "outputs": [
        {
          "output_type": "stream",
          "text": [
            "  % Total    % Received % Xferd  Average Speed   Time    Time     Time  Current\n",
            "                                 Dload  Upload   Total   Spent    Left  Speed\n",
            "100  1580  100  1580    0     0   4831      0 --:--:-- --:--:-- --:--:--  4817\n",
            "+ apt -y -q install cuda-libraries-dev-10-0\n",
            "Reading package lists...\n",
            "Building dependency tree...\n",
            "Reading state information...\n",
            "cuda-libraries-dev-10-0 is already the newest version (10.0.130-1).\n",
            "0 upgraded, 0 newly installed, 0 to remove and 32 not upgraded.\n",
            "+ pip install -q cupy-cuda100  chainer \n",
            "\u001b[K     |████████████████████████████████| 337.3MB 46kB/s \n",
            "\u001b[?25h+ set +ex\n",
            "Installation succeeded!\n"
          ],
          "name": "stdout"
        }
      ]
    },
    {
      "cell_type": "markdown",
      "metadata": {
        "id": "RTo6zZ7rHVEx",
        "colab_type": "text"
      },
      "source": [
        "pip install cupy"
      ]
    },
    {
      "cell_type": "code",
      "metadata": {
        "id": "7exBpVTBImR9",
        "colab_type": "code",
        "outputId": "4815e28e-3f8f-450b-edb6-f832d6ae6460",
        "colab": {
          "base_uri": "https://localhost:8080/",
          "height": 133
        }
      },
      "source": [
        "import matplotlib.pyplot as plt\n",
        "import numpy as np\n",
        "import cupy as cp\n",
        "\n",
        "from google.colab import drive\n",
        "drive.mount('/content/gdrive')\n",
        "file_data = \"gdrive/My Drive/mnist.csv\"\n",
        "handle_file = open(file_data, \"r\")\n",
        "data        = handle_file.readlines()\n",
        "handle_file.close()\n",
        "\n",
        "size_row    = 28    # height of the image\n",
        "size_col    = 28    # width of the image\n",
        "\n",
        "num_image   = len(data)\n",
        "count       = 0     # count for the number of images\n",
        "\n",
        "#\n",
        "# normalize the values of the input data to be [0, 1]\n",
        "#\n",
        "def normalize(data):\n",
        "\n",
        "    data_normalized = (data - min(data)) / (max(data) - min(data))\n",
        "\n",
        "    return(data_normalized)\n",
        "\n",
        "#\n",
        "# example of distance function between two vectors x and y\n",
        "#\n",
        "def distance(x, y):\n",
        "\n",
        "    d = (x - y) ** 2\n",
        "    s = cp.sum(d)\n",
        "    # r = cp.sqrt(s)\n",
        "\n",
        "    return(s)\n",
        "\n",
        "#\n",
        "# make a matrix each column of which represents an images in a vector form\n",
        "#\n",
        "list_image  = cp.empty(( num_image, size_row * size_col), dtype=float)\n",
        "list_label  = cp.empty(num_image, dtype=int)\n",
        "\n",
        "for line in data:\n",
        "\n",
        "    line_data   = line.split(',')\n",
        "    label       = int(line_data[0])\n",
        "    im_vector   = cp.array(np.asfarray(line_data[1:]))\n",
        "    im_vector   = normalize(im_vector)\n",
        "\n",
        "    list_label[count]       = label\n",
        "    list_image[count, : ]    = im_vector\n",
        "\n",
        "    count += 1"
      ],
      "execution_count": 2,
      "outputs": [
        {
          "output_type": "stream",
          "text": [
            "Go to this URL in a browser: https://accounts.google.com/o/oauth2/auth?client_id=947318989803-6bn6qk8qdgf4n4g3pfee6491hc0brc4i.apps.googleusercontent.com&redirect_uri=urn%3aietf%3awg%3aoauth%3a2.0%3aoob&response_type=code&scope=email%20https%3a%2f%2fwww.googleapis.com%2fauth%2fdocs.test%20https%3a%2f%2fwww.googleapis.com%2fauth%2fdrive%20https%3a%2f%2fwww.googleapis.com%2fauth%2fdrive.photos.readonly%20https%3a%2f%2fwww.googleapis.com%2fauth%2fpeopleapi.readonly\n",
            "\n",
            "Enter your authorization code:\n",
            "··········\n",
            "Mounted at /content/gdrive\n"
          ],
          "name": "stdout"
        }
      ]
    },
    {
      "cell_type": "markdown",
      "metadata": {
        "id": "PJViDuGJHaU2",
        "colab_type": "text"
      },
      "source": [
        "Mount datas from gdrive and save it as cupy array"
      ]
    },
    {
      "cell_type": "code",
      "metadata": {
        "id": "82Qo-Z1lIvX0",
        "colab_type": "code",
        "colab": {}
      },
      "source": [
        "data_train = list_image[ :1000, :]\n",
        "data_testing = list_image[1000: , :]\n",
        "label_train = list_label[ :1000]\n",
        "label_testing = list_label[1000: ]\n",
        "\n",
        "theta_u = cp.random.randn(785, 196)\n",
        "theta_v = cp.random.randn(197, 49)\n",
        "theta_w = cp.random.randn(50, 10)\n",
        "\n",
        "data_y = cp.zeros(196)\n",
        "data_z = cp.zeros(50)\n",
        "\n",
        "def one_hot_labels(label):\n",
        "  ret = cp.zeros((len(label), 10))\n",
        "  for i in range(len(label)):\n",
        "    ret[i][label[i]] = 1\n",
        "  return ret\n",
        "\n",
        "def sigmoid_prime(s) :\n",
        "  return (sigmoid(s))*(1-sigmoid(s))\n",
        "  \n",
        "def bias(input_layer):\n",
        "    input_layer = cp.array(np.insert(cp.asnumpy(input_layer), 0, 1, axis = 1))\n",
        "    return input_layer\n",
        "\n",
        "def sigmoid(s):\n",
        "    return 1 / (1+cp.exp(-(s)))\n",
        "\n",
        "label_train = one_hot_labels(label_train)\n",
        "label_testing = one_hot_labels(label_testing)"
      ],
      "execution_count": 0,
      "outputs": []
    },
    {
      "cell_type": "code",
      "metadata": {
        "id": "z5VCq2DFI8S3",
        "colab_type": "code",
        "colab": {}
      },
      "source": [
        "def Objective_Function(input, input_test, theta_u, theta_v, theta_w, label_train, label_test, num_of_learning = 30000, learning_rate = 1.5, lamb = 30):\n",
        "  loss_train = []\n",
        "  loss_test = []\n",
        "  acc_train = []\n",
        "  acc_testing = []\n",
        "\n",
        "  num_thetas = 785 * 196 + 197 * 49 + 50 * 10\n",
        "  \n",
        "  for i in range(num_of_learning):\n",
        "    layer1 = cp.dot(bias(input), theta_u)\n",
        "    sig_layer1 = bias(sigmoid(layer1))\n",
        "    \n",
        "    layer2 = cp.dot(sig_layer1, theta_v)\n",
        "    sig_layer2 = bias(sigmoid(layer2))\n",
        "\n",
        "    layer3 = cp.dot(sig_layer2, theta_w)\n",
        "    sig_layer3 = sigmoid(layer3)\n",
        "\n",
        "    layer1_t = cp.dot(bias(input_test), theta_u)\n",
        "    sig_layer1_t = bias(sigmoid(layer1_t))\n",
        "\n",
        "    layer2_t = cp.dot(sig_layer1_t, theta_v)\n",
        "    sig_layer2_t = bias(sigmoid(layer2_t))\n",
        "\n",
        "    layer3_t = cp.dot(sig_layer2_t, theta_w)\n",
        "    sig_layer3_t = sigmoid(layer3_t)\n",
        "\n",
        "    sum_theta = cp.sum(theta_u**2) + cp.sum(theta_v**2) + cp.sum(theta_w**2)\n",
        "\n",
        "    loss_train.append(loss_function(sig_layer3, label_train, 1000, sum_theta, num_thetas, lamb))\n",
        "    loss_test.append(loss_function(sig_layer3_t, label_test, 9000, sum_theta, num_thetas, lamb))\n",
        "\n",
        "    acc_train.append(get_accuracy(sig_layer3, label_train, 1000))\n",
        "    acc_testing.append(get_accuracy(sig_layer3_t, label_testing, 9000))\n",
        "\n",
        "    part1 = ((1-label_train) / (1 - sig_layer3) - (label_train / sig_layer3)) * sigmoid_prime(layer3)\n",
        "    \n",
        "    gd_w = cp.dot(cp.transpose(part1), sig_layer2)\n",
        "    part2 = cp.dot(part1, cp.transpose(theta_w[1:])) * sigmoid_prime(layer2)\n",
        "    gd_v = cp.dot(cp.transpose(part2), sig_layer1)\n",
        "    part3 = cp.dot(part2, cp.transpose(theta_v[1:])) *sigmoid_prime(layer1)\n",
        "    gd_u = cp.dot(cp.transpose(part3), bias(input))\n",
        "\n",
        "\n",
        "    theta_u = theta_u - learning_rate * (cp.transpose(gd_u) / 1000 + lamb * theta_u / num_thetas)\n",
        "    theta_v = theta_v - learning_rate * (cp.transpose(gd_v) / 1000 + lamb * theta_v / num_thetas)\n",
        "    theta_w = theta_w - learning_rate * (cp.transpose(gd_w) / 1000 + lamb * theta_w / num_thetas)\n",
        "\n",
        "  return loss_train, loss_test, acc_train, acc_testing, theta_u, theta_v, theta_w, sig_layer3_t\n",
        "\n",
        "\n",
        "def loss_function(h, label, num_data, sum_theta, num_thetas, lamb):\n",
        "  ret = cp.zeros((num_data, 10))\n",
        "  for i in range(0, 10):\n",
        "    ret[:, i] = (-label[:, i]*cp.log(h[:, i]) - (1-label[:,i]) * cp.log(1-h[:, i])) + lamb * (sum_theta) / (2 * num_thetas)\n",
        "  return cp.average(cp.sum(ret, axis=1))\n",
        "\n",
        "def get_accuracy(h, label, num_data):\n",
        "  answer = cp.argmax(h, axis=1)\n",
        "  corrects = cp.argmax(label, axis=1)\n",
        "  num_corrects = len(label[corrects==answer])\n",
        "  return num_corrects/num_data*100\n",
        "\n",
        "\n",
        "loss_train, loss_testing, acc_train, acc_testing, t_u, t_v, t_w, h_test = Objective_Function(data_train, data_testing, theta_u, theta_v, theta_w, label_train, label_testing)"
      ],
      "execution_count": 0,
      "outputs": []
    },
    {
      "cell_type": "code",
      "metadata": {
        "id": "h5yWkIYkJCvy",
        "colab_type": "code",
        "colab": {}
      },
      "source": [
        "prediction = cp.argmax(h_test, axis=1)\n",
        "answer = cp.argmax(label_testing, axis = 1)\n",
        "\n",
        "corrects = data_testing[prediction==answer]\n",
        "corrects_label = prediction[prediction==answer]\n",
        "incorrects = data_testing[prediction!=answer]\n",
        "incorrects_label = prediction[prediction!=answer]"
      ],
      "execution_count": 0,
      "outputs": []
    },
    {
      "cell_type": "code",
      "metadata": {
        "id": "dVNXFZmwJFLh",
        "colab_type": "code",
        "outputId": "ca4f9af8-3d03-44bd-a325-84ae4cc1a96b",
        "colab": {
          "base_uri": "https://localhost:8080/",
          "height": 1000
        }
      },
      "source": [
        "plt.plot(loss_train, color = 'blue')\n",
        "plt.plot(loss_testing, color = 'red')\n",
        "plt.show()\n",
        "\n",
        "plt.plot(acc_train, color = 'blue')\n",
        "plt.plot(acc_testing, color = 'red')\n",
        "plt.show()\n",
        "\n",
        "print(\"Accuracy for Training data(%) : \", acc_train[-1])\n",
        "print(\"Accuracy for Testing data(%)\", acc_testing[-1])\n",
        "\n",
        "import random\n",
        "print(\"\\n\\nCorrect :\")\n",
        "for i in range(10):\n",
        "    label       = corrects_label[i]\n",
        "    im_matrix   = corrects[i].reshape((size_row, size_col))\n",
        "\n",
        "    plt.subplot(2, 5, i+1)\n",
        "    plt.title(str(label))\n",
        "    plt.imshow(cp.asnumpy(im_matrix), cmap='Greys', interpolation='None')\n",
        "\n",
        "    frame   = plt.gca()\n",
        "    frame.axes.get_xaxis().set_visible(False)\n",
        "    frame.axes.get_yaxis().set_visible(False)\n",
        "plt.show()\n",
        "\n",
        "print(\"\\n\\nIncorrect : \")\n",
        "for i in range(10):\n",
        "    label       = incorrects_label[i]\n",
        "    im_matrix   = incorrects[i].reshape((size_row, size_col))\n",
        "\n",
        "    plt.subplot(2, 5, i+1)\n",
        "    plt.title(str(label))\n",
        "    plt.imshow(cp.asnumpy(im_matrix), cmap='Greys', interpolation='None')\n",
        "\n",
        "    frame   = plt.gca()\n",
        "    frame.axes.get_xaxis().set_visible(False)\n",
        "    frame.axes.get_yaxis().set_visible(False)\n",
        "\n",
        "plt.show()"
      ],
      "execution_count": 12,
      "outputs": [
        {
          "output_type": "display_data",
          "data": {
            "image/png": "[encoded data removed]",
            "text/plain": [
              "<Figure size 432x288 with 1 Axes>"
            ]
          },
          "metadata": {
            "tags": [],
            "needs_background": "light"
          }
        },
        {
          "output_type": "display_data",
          "data": {
            "image/png": "[encoded data removed]",
            "text/plain": [
              "<Figure size 432x288 with 1 Axes>"
            ]
          },
          "metadata": {
            "tags": [],
            "needs_background": "light"
          }
        },
        {
          "output_type": "stream",
          "text": [
            "Accuracy for Training data(%) :  100.0\n",
            "Accuracy for Testing data(%) 89.53333333333333\n",
            "\n",
            "\n",
            "Correct :\n"
          ],
          "name": "stdout"
        },
        {
          "output_type": "display_data",
          "data": {
            "image/png": "[encoded data removed]",
            "text/plain": [
              "<Figure size 432x288 with 10 Axes>"
            ]
          },
          "metadata": {
            "tags": [],
            "needs_background": "light"
          }
        },
        {
          "output_type": "stream",
          "text": [
            "\n",
            "\n",
            "Incorrect : \n"
          ],
          "name": "stdout"
        },
        {
          "output_type": "display_data",
          "data": {
            "image/png": "[encoded data removed]",
            "text/plain": [
              "<Figure size 432x288 with 10 Axes>"
            ]
          },
          "metadata": {
            "tags": [],
            "needs_background": "light"
          }
        }
      ]
    }
  ]
}