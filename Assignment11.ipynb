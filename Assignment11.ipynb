{
  "nbformat": 4,
  "nbformat_minor": 0,
  "metadata": {
    "colab": {
      "name": "Assignment11.ipynb",
      "provenance": [],
      "collapsed_sections": [],
      "authorship_tag": "ABX9TyOtVyN1GWooFGimwkCOkQao",
      "include_colab_link": true
    },
    "kernelspec": {
      "name": "python3",
      "display_name": "Python 3"
    },
    "accelerator": "GPU"
  },
  "cells": [
    {
      "cell_type": "markdown",
      "metadata": {
        "id": "view-in-github",
        "colab_type": "text"
      },
      "source": [
        "<a href=\"https://colab.research.google.com/github/jjiho/20141001-Lee-Jiho/blob/master/Assignment11.ipynb\" target=\"_parent\"><img src=\"https://colab.research.google.com/assets/colab-badge.svg\" alt=\"Open In Colab\"/></a>"
      ]
    },
    {
      "cell_type": "code",
      "metadata": {
        "id": "sedtb_S6V7AX",
        "colab_type": "code",
        "colab": {
          "base_uri": "https://localhost:8080/",
          "height": 308
        },
        "outputId": "abe69dea-0542-490a-89b0-594c5dc3ef02"
      },
      "source": [
        "!curl https://colab.chainer.org/install | sh -"
      ],
      "execution_count": null,
      "outputs": [
        {
          "output_type": "stream",
          "text": [
            "  % Total    % Received % Xferd  Average Speed   Time    Time     Time  Current\n",
            "                                 Dload  Upload   Total   Spent    Left  Speed\n",
            "\r  0     0    0     0    0     0      0      0 --:--:-- --:--:-- --:--:--     0\r100  1580  100  1580    0     0  11879      0 --:--:-- --:--:-- --:--:-- 11969\n",
            "+ apt -y -q install cuda-libraries-dev-10-0\n",
            "Reading package lists...\n",
            "Building dependency tree...\n",
            "Reading state information...\n",
            "cuda-libraries-dev-10-0 is already the newest version (10.0.130-1).\n",
            "The following package was automatically installed and is no longer required:\n",
            "  libnvidia-common-440\n",
            "Use 'apt autoremove' to remove it.\n",
            "0 upgraded, 0 newly installed, 0 to remove and 43 not upgraded.\n",
            "+ pip install -q cupy-cuda100  chainer \n",
            "\u001b[K     |████████████████████████████████| 337.3MB 35kB/s \n",
            "\u001b[?25h+ set +ex\n",
            "Installation succeeded!\n"
          ],
          "name": "stdout"
        }
      ]
    },
    {
      "cell_type": "code",
      "metadata": {
        "id": "NXKBRFISV85c",
        "colab_type": "code",
        "colab": {
          "base_uri": "https://localhost:8080/",
          "height": 125
        },
        "outputId": "684f249a-02df-4105-d8a1-de28c78b06f1"
      },
      "source": [
        "import numpy as np\n",
        "import cupy as cp\n",
        "import re\n",
        "import nltk\n",
        "from sklearn.datasets import load_files\n",
        "nltk.download('stopwords')\n",
        "nltk.download('wordnet')\n",
        "import pickle\n",
        "from nltk.corpus import stopwords\n",
        "from nltk.stem import WordNetLemmatizer\n",
        "from sklearn.feature_extraction.text import CountVectorizer\n",
        "from sklearn.feature_extraction.text import TfidfTransformer\n",
        "from sklearn.model_selection import train_test_split\n",
        "#################\n",
        "from google.colab import drive\n",
        "drive.mount('/content/gdrive')\n",
        "#################\n",
        "from zipfile import ZipFile\n",
        "file_name = \"gdrive/My Drive/movie_review.zip\"\n",
        "\n",
        "with ZipFile(file_name, 'r') as zip:\n",
        "  zip.extractall()\n",
        "  print('Done')\n",
        "##################\n",
        "review_data = load_files(r\"movie_review\")\n",
        "X, y = review_data.data, review_data.target\n",
        "\n",
        "documents = []\n",
        "\n",
        "stemmer = WordNetLemmatizer()\n",
        "\n",
        "for sen in range(0, len(X)):\n",
        "    # Remove all the special characters\n",
        "    document = re.sub(r'\\W', ' ', str(X[sen]))\n",
        "    \n",
        "    # remove all single characters\n",
        "    document = re.sub(r'\\s+[a-zA-Z]\\s+', ' ', document)\n",
        "    \n",
        "    # Remove single characters from the start\n",
        "    document = re.sub(r'\\^[a-zA-Z]\\s+', ' ', document) \n",
        "    \n",
        "    # Substituting multiple spaces with single space\n",
        "    document = re.sub(r'\\s+', ' ', document, flags=re.I)\n",
        "    \n",
        "    # Removing prefixed 'b'\n",
        "    document = re.sub(r'^b\\s+', '', document)\n",
        "    \n",
        "    # Converting to Lowercase\n",
        "    document = document.lower()\n",
        "    \n",
        "    # Lemmatization\n",
        "    document = document.split()\n",
        "    document = [stemmer.lemmatize(word) for word in document]\n",
        "    document = ' '.join(document)\n",
        "    \n",
        "    documents.append(document)\n",
        "\n",
        "vectorizer = CountVectorizer(max_features=1500, min_df=5, max_df=0.7, stop_words=stopwords.words('english'))\n",
        "X = vectorizer.fit_transform(documents).toarray()\n",
        "\n",
        "tfidfconverter = TfidfTransformer()\n",
        "X = tfidfconverter.fit_transform(X).toarray()\n",
        "\n",
        "X_train, X_test, y_train, y_test = train_test_split(X, y, test_size=0.3, shuffle=False)\n"
      ],
      "execution_count": 50,
      "outputs": [
        {
          "output_type": "stream",
          "text": [
            "[nltk_data] Downloading package stopwords to /root/nltk_data...\n",
            "[nltk_data]   Package stopwords is already up-to-date!\n",
            "[nltk_data] Downloading package wordnet to /root/nltk_data...\n",
            "[nltk_data]   Package wordnet is already up-to-date!\n",
            "Drive already mounted at /content/gdrive; to attempt to forcibly remount, call drive.mount(\"/content/gdrive\", force_remount=True).\n",
            "Done\n"
          ],
          "name": "stdout"
        }
      ]
    },
    {
      "cell_type": "code",
      "metadata": {
        "id": "jYUQ_JnCa0t2",
        "colab_type": "code",
        "colab": {
          "base_uri": "https://localhost:8080/",
          "height": 89
        },
        "outputId": "1c9fa997-9262-4968-8c4f-9d650a6bc7b0"
      },
      "source": [
        "X_train = cp.array(X_train)\n",
        "X_test = cp.array(X_test)\n",
        "y_train = cp.array(y_train)\n",
        "y_test = cp.array(y_test)\n",
        "\n",
        "y_train = y_train.reshape((1401,1))\n",
        "y_test = y_test.reshape((601,1))\n",
        "\n",
        "print(X_train.shape)\n",
        "print(X_test.shape)\n",
        "print(y_train.shape)\n",
        "print(y_test.shape)\n"
      ],
      "execution_count": 51,
      "outputs": [
        {
          "output_type": "stream",
          "text": [
            "(1401, 1500)\n",
            "(601, 1500)\n",
            "(1401, 1)\n",
            "(601, 1)\n"
          ],
          "name": "stdout"
        }
      ]
    },
    {
      "cell_type": "code",
      "metadata": {
        "id": "_2fMEhOEeNWp",
        "colab_type": "code",
        "colab": {
          "base_uri": "https://localhost:8080/",
          "height": 35
        },
        "outputId": "c071076e-2402-4518-babb-c38c815baba8"
      },
      "source": [
        "theta_u = cp.random.randn(1501, 500)\n",
        "theta_v = cp.random.randn(501, 50)\n",
        "theta_w = cp.random.randn(51, 1)\n",
        "\n",
        "def sigmoid_prime(s) :\n",
        "  return (sigmoid(s))*(1-sigmoid(s))\n",
        "  \n",
        "def bias(input_layer):\n",
        "    input_layer = cp.array(np.insert(cp.asnumpy(input_layer), 0, 1, axis = 1))\n",
        "    return input_layer\n",
        "\n",
        "def sigmoid(s):\n",
        "    return 1 / (1+cp.exp(-(s)))\n",
        "\n",
        "print(y_train.shape)"
      ],
      "execution_count": 52,
      "outputs": [
        {
          "output_type": "stream",
          "text": [
            "(1401, 1)\n"
          ],
          "name": "stdout"
        }
      ]
    },
    {
      "cell_type": "code",
      "metadata": {
        "id": "SMtjIQw6g2UB",
        "colab_type": "code",
        "colab": {
          "base_uri": "https://localhost:8080/",
          "height": 244
        },
        "outputId": "213e11c5-919f-49d1-c456-2d2fecc0447e"
      },
      "source": [
        "from sklearn.metrics import classification_report, confusion_matrix, accuracy_score\n",
        "\n",
        "def Objective_Function(input, input_test, theta_u, theta_v, theta_w, label_train, label_test, num_of_learning = 40000, learning_rate = 0.7, lamb = 23):\n",
        "  loss_train = []\n",
        "  loss_test = []\n",
        "  acc_train = []\n",
        "  acc_testing = []\n",
        "\n",
        "  num_thetas = 1500 * 500 + 500 * 50 + 50 * 1\n",
        "  \n",
        "  for i in range(num_of_learning):\n",
        "    '''\n",
        "    if(i % 10 == 1):\n",
        "      print(loss_train[-1], loss_test[-1], acc_train[-1], acc_testing[-1])\n",
        "    '''\n",
        "    layer1 = cp.dot(bias(input), theta_u)\n",
        "    sig_layer1 = bias(sigmoid(layer1))\n",
        "    \n",
        "    layer2 = cp.dot(sig_layer1, theta_v)\n",
        "    sig_layer2 = bias(sigmoid(layer2))\n",
        "\n",
        "    layer3 = cp.dot(sig_layer2, theta_w)\n",
        "    sig_layer3 = sigmoid(layer3)\n",
        "\n",
        "    layer1_t = cp.dot(bias(input_test), theta_u)\n",
        "    sig_layer1_t = bias(sigmoid(layer1_t))\n",
        "\n",
        "    layer2_t = cp.dot(sig_layer1_t, theta_v)\n",
        "    sig_layer2_t = bias(sigmoid(layer2_t))\n",
        "\n",
        "    layer3_t = cp.dot(sig_layer2_t, theta_w)\n",
        "    sig_layer3_t = sigmoid(layer3_t)\n",
        "\n",
        "    sum_theta = cp.sum(theta_u**2) + cp.sum(theta_v**2) + cp.sum(theta_w**2)\n",
        "\n",
        "    loss_train.append(loss_function(sig_layer3, label_train, 1401, sum_theta, num_thetas, lamb))\n",
        "    loss_test.append(loss_function(sig_layer3_t, label_test, 601, sum_theta, num_thetas, lamb))\n",
        "\n",
        "    acc_train.append(get_accuracy(sig_layer3, label_train, 1401))\n",
        "    acc_testing.append(get_accuracy(sig_layer3_t, label_test, 601))\n",
        "\n",
        "    if i == num_of_learning - 1:\n",
        "      answer = np.where(cp.asnumpy(sig_layer3[:,0]) >= 0.5, 1, 0)\n",
        "      labeln = cp.asnumpy(label_train[:,0])\n",
        "      print(\"done\")\n",
        "      c_m = confusion_matrix(labeln, answer)\n",
        "      c_r = classification_report(labeln, answer)\n",
        "      a_s = accuracy_score(labeln, answer)\n",
        "\n",
        "\n",
        "      answer_test = np.where(cp.asnumpy(sig_layer3_t[:,0]) >= 0.5, 1, 0)\n",
        "      labeln_test = cp.asnumpy(label_test[:,0])\n",
        "      print(\"done\")\n",
        "      c_m_test = confusion_matrix(labeln_test, answer_test)\n",
        "      c_r_test = classification_report(labeln_test, answer_test)\n",
        "      a_s_test = accuracy_score(labeln_test, answer_test)\n",
        "\n",
        "    part1 = ((1-label_train) / (1 - sig_layer3) - (label_train / sig_layer3)) * sigmoid_prime(layer3)\n",
        "    \n",
        "    gd_w = cp.dot(cp.transpose(part1), sig_layer2)\n",
        "    part2 = cp.dot(part1, cp.transpose(theta_w[1:])) * sigmoid_prime(layer2)\n",
        "    gd_v = cp.dot(cp.transpose(part2), sig_layer1)\n",
        "    part3 = cp.dot(part2, cp.transpose(theta_v[1:])) *sigmoid_prime(layer1)\n",
        "    gd_u = cp.dot(cp.transpose(part3), bias(input))\n",
        "\n",
        "\n",
        "    theta_u = theta_u - learning_rate * (cp.transpose(gd_u) / 1401 + lamb * theta_u / num_thetas)\n",
        "    theta_v = theta_v - learning_rate * (cp.transpose(gd_v) / 1401 + lamb * theta_v / num_thetas)\n",
        "    theta_w = theta_w - learning_rate * (cp.transpose(gd_w) / 1401 + lamb * theta_w / num_thetas)\n",
        "\n",
        "  return loss_train, loss_test, acc_train, acc_testing, theta_u, theta_v, theta_w, sig_layer3_t, c_m, c_r, a_s\n",
        "\n",
        "def loss_function(h, label, num_data, sum_theta, num_thetas, lamb):\n",
        "  ret = cp.zeros(num_data)\n",
        "  ret = (-label * cp.log(h) - (1-label) * cp.log(1-h)) + lamb * (sum_theta) / (2 * num_thetas)\n",
        "  #ret[:, i] = (-label[:, i]*cp.log(h[:, i]) - (1-label[:,i]) * cp.log(1-h[:, i])) + lamb * (sum_theta) / (2 * num_thetas)\n",
        "  return cp.average(cp.sum(ret, axis=1))\n",
        "\n",
        "def get_accuracy(h, label, num_data):\n",
        "  answer = np.where(cp.asnumpy(h)>=0.5, 1, 0)\n",
        "  labeln = cp.asnumpy(label)\n",
        "  a_s = accuracy_score(labeln, answer)\n",
        "  \n",
        "  return a_s\n",
        "\n",
        "loss_train, loss_testing, acc_train, acc_testing, t_u, t_v, t_w, h_test, c_m, c_r, a_s, c_m_test, c_r_test, a_s_test = Objective_Function(X_train, X_test, theta_u, theta_v, theta_w, y_train, y_test)"
      ],
      "execution_count": 96,
      "outputs": [
        {
          "output_type": "stream",
          "text": [
            "done\n",
            "done\n"
          ],
          "name": "stdout"
        },
        {
          "output_type": "error",
          "ename": "ValueError",
          "evalue": "ignored",
          "traceback": [
            "\u001b[0;31m---------------------------------------------------------------------------\u001b[0m",
            "\u001b[0;31mValueError\u001b[0m                                Traceback (most recent call last)",
            "\u001b[0;32m<ipython-input-96-7c25ca805491>\u001b[0m in \u001b[0;36m<module>\u001b[0;34m()\u001b[0m\n\u001b[1;32m     84\u001b[0m   \u001b[0;32mreturn\u001b[0m \u001b[0ma_s\u001b[0m\u001b[0;34m\u001b[0m\u001b[0;34m\u001b[0m\u001b[0m\n\u001b[1;32m     85\u001b[0m \u001b[0;34m\u001b[0m\u001b[0m\n\u001b[0;32m---> 86\u001b[0;31m \u001b[0mloss_train\u001b[0m\u001b[0;34m,\u001b[0m \u001b[0mloss_testing\u001b[0m\u001b[0;34m,\u001b[0m \u001b[0macc_train\u001b[0m\u001b[0;34m,\u001b[0m \u001b[0macc_testing\u001b[0m\u001b[0;34m,\u001b[0m \u001b[0mt_u\u001b[0m\u001b[0;34m,\u001b[0m \u001b[0mt_v\u001b[0m\u001b[0;34m,\u001b[0m \u001b[0mt_w\u001b[0m\u001b[0;34m,\u001b[0m \u001b[0mh_test\u001b[0m\u001b[0;34m,\u001b[0m \u001b[0mc_m\u001b[0m\u001b[0;34m,\u001b[0m \u001b[0mc_r\u001b[0m\u001b[0;34m,\u001b[0m \u001b[0ma_s\u001b[0m\u001b[0;34m,\u001b[0m \u001b[0mc_m_test\u001b[0m\u001b[0;34m,\u001b[0m \u001b[0mc_r_test\u001b[0m\u001b[0;34m,\u001b[0m \u001b[0ma_s_test\u001b[0m \u001b[0;34m=\u001b[0m \u001b[0mObjective_Function\u001b[0m\u001b[0;34m(\u001b[0m\u001b[0mX_train\u001b[0m\u001b[0;34m,\u001b[0m \u001b[0mX_test\u001b[0m\u001b[0;34m,\u001b[0m \u001b[0mtheta_u\u001b[0m\u001b[0;34m,\u001b[0m \u001b[0mtheta_v\u001b[0m\u001b[0;34m,\u001b[0m \u001b[0mtheta_w\u001b[0m\u001b[0;34m,\u001b[0m \u001b[0my_train\u001b[0m\u001b[0;34m,\u001b[0m \u001b[0my_test\u001b[0m\u001b[0;34m)\u001b[0m\u001b[0;34m\u001b[0m\u001b[0;34m\u001b[0m\u001b[0m\n\u001b[0m",
            "\u001b[0;31mValueError\u001b[0m: not enough values to unpack (expected 14, got 11)"
          ]
        }
      ]
    },
    {
      "cell_type": "code",
      "metadata": {
        "id": "bc6D2KpkJJ_z",
        "colab_type": "code",
        "colab": {
          "base_uri": "https://localhost:8080/",
          "height": 1000
        },
        "outputId": "d0d4c65c-e432-4517-f55b-392c1cd06b08"
      },
      "source": [
        "from matplotlib import pyplot as plt\n",
        "plt.plot(loss_train, c = 'blue')\n",
        "plt.plot(loss_testing, c = 'red')\n",
        "plt.show()\n",
        "plt.plot(acc_train, c = 'blue')\n",
        "plt.plot(acc_testing, c = 'red')\n",
        "plt.show()\n",
        "\n",
        "print(\"Training :\")\n",
        "print(c_m)\n",
        "print(c_r)\n",
        "print(a_s)\n",
        "\n",
        "print(\"\\nTesting :\")\n",
        "print(c_m_test)\n",
        "print(c_r_test)\n",
        "print(a_s_test)"
      ],
      "execution_count": 59,
      "outputs": [
        {
          "output_type": "display_data",
          "data": {
            "image/png": "[encoded data removed]",
            "text/plain": [
              "<Figure size 432x288 with 1 Axes>"
            ]
          },
          "metadata": {
            "tags": [],
            "needs_background": "light"
          }
        },
        {
          "output_type": "display_data",
          "data": {
            "image/png": "[encoded data removed]",
            "text/plain": [
              "<Figure size 432x288 with 1 Axes>"
            ]
          },
          "metadata": {
            "tags": [],
            "needs_background": "light"
          }
        },
        {
          "output_type": "display_data",
          "data": {
            "image/png": "[encoded data removed]",
            "text/plain": [
              "<Figure size 432x288 with 1 Axes>"
            ]
          },
          "metadata": {
            "tags": [],
            "needs_background": "light"
          }
        },
        {
          "output_type": "display_data",
          "data": {
            "image/png": "[encoded data removed]",
            "text/plain": [
              "<Figure size 432x288 with 1 Axes>"
            ]
          },
          "metadata": {
            "tags": [],
            "needs_background": "light"
          }
        }
      ]
    }
  ]
}